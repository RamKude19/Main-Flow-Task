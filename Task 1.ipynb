{
 "cells": [
  {
   "cell_type": "markdown",
   "id": "d3a2999d-07c8-4392-aa6c-c844f258416a",
   "metadata": {},
   "source": [
    "* #  LIST"
   ]
  },
  {
   "cell_type": "markdown",
   "id": "255f2125-4dc5-45a2-b6da-2ced12b482f0",
   "metadata": {},
   "source": [
    "# adding"
   ]
  },
  {
   "cell_type": "code",
   "execution_count": 5,
   "id": "4c482d43-b4ce-4c18-81ca-d7101172d45b",
   "metadata": {},
   "outputs": [
    {
     "name": "stdout",
     "output_type": "stream",
     "text": [
      "[1, 2, 3, 4, 5, 6, 7, 8, 9, 10, 12]\n"
     ]
    }
   ],
   "source": [
    "a1 = [1,2,3,4,5,6,7,8,9,10]\n",
    "a1.append(12)\n",
    "print(a1)"
   ]
  },
  {
   "cell_type": "code",
   "execution_count": 27,
   "id": "edfd1556-2f61-4366-9095-25852a6d6dc5",
   "metadata": {},
   "outputs": [
    {
     "data": {
      "text/plain": [
       "[1, 11, 2, 3, 4, 5, 9, 8, 7, 6]"
      ]
     },
     "execution_count": 27,
     "metadata": {},
     "output_type": "execute_result"
    }
   ],
   "source": [
    "a1=[1,2,3,4,5,9,8,7,6]\n",
    "a1.insert(1,11)\n",
    "a1"
   ]
  },
  {
   "cell_type": "code",
   "execution_count": 30,
   "id": "322fa693-d79c-481e-90b3-738be63c02a5",
   "metadata": {},
   "outputs": [
    {
     "name": "stdout",
     "output_type": "stream",
     "text": [
      "[1, 2, 3, 4, 5, 6]\n"
     ]
    }
   ],
   "source": [
    "list = [1,2,3,4]\n",
    "tuple = (5,6)\n",
    "list.extend(tuple)\n",
    "print(list)\n"
   ]
  },
  {
   "cell_type": "markdown",
   "id": "27406868-634d-4120-bef5-dc347bf725db",
   "metadata": {},
   "source": [
    "# removing"
   ]
  },
  {
   "cell_type": "code",
   "execution_count": 34,
   "id": "418dcbcb-c833-471f-b728-2edc9326edef",
   "metadata": {},
   "outputs": [
    {
     "name": "stdout",
     "output_type": "stream",
     "text": [
      "[1, 3, 4, 5, 6, 7, 8, 9, 10]\n"
     ]
    }
   ],
   "source": [
    "a1=[1,2,3,4,5,6,7,8,9,10]\n",
    "a1.pop(1)\n",
    "print(a1)"
   ]
  },
  {
   "cell_type": "code",
   "execution_count": 36,
   "id": "18246109-3f1a-4018-8bb8-ef77786be0b7",
   "metadata": {},
   "outputs": [
    {
     "name": "stdout",
     "output_type": "stream",
     "text": [
      "[2, 3, 4, 5, 6, 7, 8, 9, 10]\n"
     ]
    }
   ],
   "source": [
    "a1=[1,2,3,4,5,6,7,8,9,10]\n",
    "a1.remove(1)\n",
    "print(a1)"
   ]
  },
  {
   "cell_type": "code",
   "execution_count": 42,
   "id": "568677f8-a843-4b62-9c8b-345e64a07749",
   "metadata": {},
   "outputs": [
    {
     "name": "stdout",
     "output_type": "stream",
     "text": [
      "[]\n"
     ]
    }
   ],
   "source": [
    "a1=[1,2,3,4,5,6,7,8,9,10]\n",
    "a1.clear()\n",
    "print(a1)"
   ]
  },
  {
   "cell_type": "code",
   "execution_count": 58,
   "id": "42a07dfd-c09f-46f1-a512-5421b9917cf8",
   "metadata": {},
   "outputs": [],
   "source": [
    "a1=[1,2,3,4,5,6,7,8,9,10]\n",
    "del a1\n"
   ]
  },
  {
   "cell_type": "markdown",
   "id": "116093d3-a6a8-4093-9d85-13ac9728ad69",
   "metadata": {},
   "source": [
    "# modify\n"
   ]
  },
  {
   "cell_type": "code",
   "execution_count": 61,
   "id": "d53a56eb-64c2-443f-a916-25be1c04aaea",
   "metadata": {},
   "outputs": [
    {
     "name": "stdout",
     "output_type": "stream",
     "text": [
      "[1, 4, 3]\n"
     ]
    }
   ],
   "source": [
    "a1 = [1, 2, 3]\n",
    "a1[1] = 4\n",
    "print(a1)"
   ]
  },
  {
   "cell_type": "code",
   "execution_count": 63,
   "id": "89bbbd2c-87a5-4892-be2a-2e1b82b51d9e",
   "metadata": {},
   "outputs": [
    {
     "name": "stdout",
     "output_type": "stream",
     "text": [
      "[1, 12.5, 13.5, 4, 5, 6, 7, 8]\n"
     ]
    }
   ],
   "source": [
    "a1 = [1,2,3,4,5,6,7,8]\n",
    "a1[1:3] = [12.5, 13.5]\n",
    "print(a1)"
   ]
  },
  {
   "cell_type": "code",
   "execution_count": 65,
   "id": "7290aced-84c8-44e7-878b-33a2f4da1320",
   "metadata": {},
   "outputs": [
    {
     "name": "stdout",
     "output_type": "stream",
     "text": [
      "[1, 2, 'choclate', 3, 4, 5, 6]\n"
     ]
    }
   ],
   "source": [
    "q1 = [1,2,3,4,5,6]\n",
    "q1.insert(2, \"choclate\")\n",
    "print(q1)"
   ]
  },
  {
   "cell_type": "markdown",
   "id": "f5bfe68b-6c14-427d-ba02-c7545b47d85e",
   "metadata": {
    "jp-MarkdownHeadingCollapsed": true
   },
   "source": [
    "* # DICTIONARIES"
   ]
  },
  {
   "cell_type": "markdown",
   "id": "cdd116ba-8f81-44b7-bbb6-73165398f759",
   "metadata": {},
   "source": [
    "# adding"
   ]
  },
  {
   "cell_type": "code",
   "execution_count": 77,
   "id": "7e2547ad-fbed-427a-8578-b74dde1f7aa9",
   "metadata": {},
   "outputs": [
    {
     "name": "stdout",
     "output_type": "stream",
     "text": [
      "{'brand': 'Ford', 'model': 'Mustang', 'year': 1964, 'color': 'red'}\n"
     ]
    }
   ],
   "source": [
    "dict = {'brand': 'Ford', 'model': 'Mustang', 'year': 1964}\n",
    "dict.update({'color': 'red'})\n",
    "print(dict)"
   ]
  },
  {
   "cell_type": "markdown",
   "id": "f9f9dda7-bf2d-46ec-b1e1-ecfcc0a646f4",
   "metadata": {},
   "source": [
    "# Removing"
   ]
  },
  {
   "cell_type": "code",
   "execution_count": 86,
   "id": "44f42d12-d7e3-426e-8de3-c88ec320ef50",
   "metadata": {},
   "outputs": [],
   "source": [
    "dict1 = {\"apple\": 3, \"banana\": 5, \"cherry\": 2}\n",
    "del dict1[\"banana\"]"
   ]
  },
  {
   "cell_type": "code",
   "execution_count": 88,
   "id": "7b88f25b-3cd5-462e-8da6-3c25bc8d00d3",
   "metadata": {},
   "outputs": [
    {
     "data": {
      "text/plain": [
       "5"
      ]
     },
     "execution_count": 88,
     "metadata": {},
     "output_type": "execute_result"
    }
   ],
   "source": [
    "dict2 = {\"apple\": 3, \"banana\": 5, \"cherry\": 2}\n",
    "dict2.pop(\"banana\")"
   ]
  },
  {
   "cell_type": "code",
   "execution_count": 90,
   "id": "3d44ade0-5a2f-4324-8d76-2d9976083e95",
   "metadata": {},
   "outputs": [],
   "source": [
    "dict2.clear() "
   ]
  },
  {
   "cell_type": "markdown",
   "id": "4496f36c-ce02-407c-941a-e185a03f84db",
   "metadata": {},
   "source": [
    "# modify"
   ]
  },
  {
   "cell_type": "code",
   "execution_count": 95,
   "id": "2f3a2efb-70d8-4e0e-9dba-44750f8b1aa7",
   "metadata": {},
   "outputs": [
    {
     "name": "stdout",
     "output_type": "stream",
     "text": [
      "{'key1': 'vedant', 'key2': 'Vishal'}\n"
     ]
    }
   ],
   "source": [
    "dict = {'key1': 'Rahul', 'key2': 'Vishal'}\n",
    "dict['key1'] = 'vedant'\n",
    "print(dict)"
   ]
  },
  {
   "cell_type": "code",
   "execution_count": 97,
   "id": "2de3ef91-dece-4602-bf2c-65c95f180df1",
   "metadata": {},
   "outputs": [
    {
     "name": "stdout",
     "output_type": "stream",
     "text": [
      "{'a': 1, 'b': 3, 'c': 4}\n"
     ]
    }
   ],
   "source": [
    "dict = {'a': 1, 'b': 2}\n",
    "dict.update({'b': 3, 'c': 4})\n",
    "print(dict)"
   ]
  },
  {
   "cell_type": "markdown",
   "id": "f5ef33fc-04e3-406f-abeb-f920ca5b0c71",
   "metadata": {},
   "source": [
    "* # SETS"
   ]
  },
  {
   "cell_type": "markdown",
   "id": "a6444d08-b37a-4da6-abaa-240ffac991f8",
   "metadata": {},
   "source": [
    "# adding"
   ]
  },
  {
   "cell_type": "code",
   "execution_count": 106,
   "id": "04c36f4b-91fa-4c6b-afee-43be1c961acb",
   "metadata": {},
   "outputs": [
    {
     "name": "stdout",
     "output_type": "stream",
     "text": [
      "{1, 2, 3, 4}\n"
     ]
    }
   ],
   "source": [
    "s={1,2,3}\n",
    "s.add(4)\n",
    "print(s)"
   ]
  },
  {
   "cell_type": "code",
   "execution_count": 108,
   "id": "35f20b80-4bf1-4dff-b2a4-f6b7da0db716",
   "metadata": {},
   "outputs": [
    {
     "name": "stdout",
     "output_type": "stream",
     "text": [
      "{1, 2, 3, 'B', 'C', 'A'}\n"
     ]
    }
   ],
   "source": [
    "s1={1,2,3}\n",
    "s1.update(['A','B','C'])\n",
    "print(s1)"
   ]
  },
  {
   "cell_type": "markdown",
   "id": "a6ecfbd4-5c77-4d15-9013-a464bbbee851",
   "metadata": {},
   "source": [
    "# Removing"
   ]
  },
  {
   "cell_type": "code",
   "execution_count": 111,
   "id": "c243e2ae-c682-4332-8d67-fcb28e47cb1a",
   "metadata": {},
   "outputs": [
    {
     "name": "stdout",
     "output_type": "stream",
     "text": [
      "{1, 2, 4, 5, 6, 7, 8}\n"
     ]
    }
   ],
   "source": [
    "s= {1,2,3,4,5,6,7,8}\n",
    "s.discard(3)\n",
    "print(s)"
   ]
  },
  {
   "cell_type": "code",
   "execution_count": 113,
   "id": "81732e26-903b-4598-9161-2f5528c0e91c",
   "metadata": {},
   "outputs": [
    {
     "name": "stdout",
     "output_type": "stream",
     "text": [
      "{1, 3, 4, 5, 6, 7, 8}\n"
     ]
    }
   ],
   "source": [
    "s= {1,2,3,4,5,6,7,8}\n",
    "s.remove(2)\n",
    "print(s)"
   ]
  },
  {
   "cell_type": "code",
   "execution_count": 115,
   "id": "a644c267-957f-419f-bcbf-77cf840cb75c",
   "metadata": {},
   "outputs": [
    {
     "name": "stdout",
     "output_type": "stream",
     "text": [
      "set()\n"
     ]
    }
   ],
   "source": [
    "s= {1,2,3,4,5,6,7,8}\n",
    "s.clear()\n",
    "print(s)"
   ]
  },
  {
   "cell_type": "markdown",
   "id": "2d90bfeb-b0c0-4b2c-a8a8-c428444be152",
   "metadata": {},
   "source": [
    "# modify"
   ]
  },
  {
   "cell_type": "code",
   "execution_count": 118,
   "id": "67c4be72-c08e-40c6-aa58-eeb1922e88b8",
   "metadata": {},
   "outputs": [
    {
     "data": {
      "text/plain": [
       "{1, 2, 3, 4}"
      ]
     },
     "execution_count": 118,
     "metadata": {},
     "output_type": "execute_result"
    }
   ],
   "source": [
    "setA={1,2,3}\n",
    "setB={2,3,4}\n",
    "setA.union(setB)"
   ]
  },
  {
   "cell_type": "code",
   "execution_count": 120,
   "id": "3ad25580-1038-4763-9e3f-8dd14de62702",
   "metadata": {},
   "outputs": [
    {
     "data": {
      "text/plain": [
       "{2, 3}"
      ]
     },
     "execution_count": 120,
     "metadata": {},
     "output_type": "execute_result"
    }
   ],
   "source": [
    "setA={1,2,3}\n",
    "setB={2,3,4}\n",
    "setA.intersection(setB)"
   ]
  },
  {
   "cell_type": "code",
   "execution_count": 122,
   "id": "fe8f8649-f71f-4dd4-a485-cabaf013f705",
   "metadata": {},
   "outputs": [
    {
     "name": "stdout",
     "output_type": "stream",
     "text": [
      "True\n",
      "False\n"
     ]
    }
   ],
   "source": [
    "A ={3,4,5}\n",
    "B ={3,4,5,6}\n",
    "ans=A.issubset(B)\n",
    "print(ans)\n",
    "\n",
    "ans =B.issubset(A)\n",
    "print(ans)"
   ]
  },
  {
   "cell_type": "code",
   "execution_count": null,
   "id": "9e2503f0-9f90-4e3e-8097-3fc02861b089",
   "metadata": {},
   "outputs": [],
   "source": []
  }
 ],
 "metadata": {
  "kernelspec": {
   "display_name": "Python 3 (ipykernel)",
   "language": "python",
   "name": "python3"
  },
  "language_info": {
   "codemirror_mode": {
    "name": "ipython",
    "version": 3
   },
   "file_extension": ".py",
   "mimetype": "text/x-python",
   "name": "python",
   "nbconvert_exporter": "python",
   "pygments_lexer": "ipython3",
   "version": "3.11.7"
  }
 },
 "nbformat": 4,
 "nbformat_minor": 5
}
